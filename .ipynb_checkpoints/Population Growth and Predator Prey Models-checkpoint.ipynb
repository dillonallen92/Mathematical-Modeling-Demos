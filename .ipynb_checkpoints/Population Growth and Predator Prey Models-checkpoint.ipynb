{
 "cells": [
  {
   "cell_type": "markdown",
   "metadata": {},
   "source": [
    "# Population Growth Modeling / Predator-Prey"
   ]
  },
  {
   "cell_type": "markdown",
   "metadata": {},
   "source": [
    "## First Encounter (Logistic Growth)"
   ]
  },
  {
   "cell_type": "markdown",
   "metadata": {},
   "source": [
    "The first example here is a common problem seen in second semester Calculus classes with the introduction of differential equations.\n",
    "\n",
    "The common form seen in Calculus is the logistic model\n",
    "\n",
    "$$ \\frac{dy}{dt} = ry \\left( 1 - \\frac{y}{K}\\right)$$\n",
    "\n",
    "With the solution\n",
    "\n",
    "$$ y = \\frac{K}{1 + Ae^{-rt}} $$\n",
    "\n",
    "With constants:\n",
    "\n",
    "- K: Carrying capacity for the population\n",
    "\n",
    "- A: Integration constant, Considered initial population point\n",
    "\n",
    "- r: Positive constant for growth rate\n",
    "\n",
    "This model assumes a population *does not* have unlimited resources, but instead moves between 0 and the capacity K and treats K as an asymptote."
   ]
  },
  {
   "cell_type": "markdown",
   "metadata": {},
   "source": [
    "## Code for Logistic Models"
   ]
  },
  {
   "cell_type": "code",
   "execution_count": 19,
   "metadata": {},
   "outputs": [
    {
     "data": {
      "text/plain": [
       "Text(0.5, 1.0, 'Logistic Growth with Carry Capacity 250')"
      ]
     },
     "execution_count": 19,
     "metadata": {},
     "output_type": "execute_result"
    },
    {
     "data": {
      "image/png": "[encoded data removed]",
      "text/plain": [
       "<Figure size 432x288 with 1 Axes>"
      ]
     },
     "metadata": {
      "needs_background": "light"
     },
     "output_type": "display_data"
    }
   ],
   "source": [
    "# Basic Library imports\n",
    "\n",
    "import numpy as np\n",
    "import matplotlib.pyplot as plt\n",
    "\n",
    "# Define the following constants\n",
    "K = 250\n",
    "A = 200\n",
    "r = 0.7\n",
    "cycles = 20\n",
    "\n",
    "y = [1]\n",
    "\n",
    "for i in range(0, cycles):\n",
    "    new_y = y[i] + r*y[i]*(1 - y[i]/K)\n",
    "    y.append(new_y)\n",
    "\n",
    "t = range(cycles + 1)\n",
    "plt.plot(t, y)\n",
    "plt.xlabel(\"Time\")\n",
    "plt.ylabel(\"Population\")\n",
    "plt.title(\"Logistic Growth with Carry Capacity 250\")"
   ]
  },
  {
   "cell_type": "code",
   "execution_count": null,
   "metadata": {},
   "outputs": [],
   "source": []
  }
 ],
 "metadata": {
  "kernelspec": {
   "display_name": "Python 3",
   "language": "python",
   "name": "python3"
  },
  "language_info": {
   "codemirror_mode": {
    "name": "ipython",
    "version": 3
   },
   "file_extension": ".py",
   "mimetype": "text/x-python",
   "name": "python",
   "nbconvert_exporter": "python",
   "pygments_lexer": "ipython3",
   "version": "3.7.3"
  }
 },
 "nbformat": 4,
 "nbformat_minor": 4
}
